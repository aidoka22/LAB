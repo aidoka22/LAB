{
 "cells": [
  {
   "cell_type": "code",
   "execution_count": 9,
   "metadata": {},
   "outputs": [
    {
     "name": "stdout",
     "output_type": "stream",
     "text": [
      "What is your name?uhbl\n",
      "Dear,uhbl!\n"
     ]
    }
   ],
   "source": [
    "#1\n",
    "name = input('What is your name?')\n",
    "print('Dear,' + name + '!')"
   ]
  },
  {
   "cell_type": "code",
   "execution_count": 10,
   "metadata": {},
   "outputs": [
    {
     "name": "stdout",
     "output_type": "stream",
     "text": [
      "What is your name?Madina\n",
      "Hello,Madina!\n"
     ]
    }
   ],
   "source": [
    "#2\n",
    "name = input('What is your name?')\n",
    "print('Hello,' + name + '!')"
   ]
  },
  {
   "cell_type": "code",
   "execution_count": 19,
   "metadata": {},
   "outputs": [
    {
     "name": "stdout",
     "output_type": "stream",
     "text": [
      "3\n",
      "4\n",
      "12\n"
     ]
    }
   ],
   "source": [
    "#3\n",
    "a = int(input())\n",
    "b = int(input())\n",
    "area = a * b\n",
    "print(area)"
   ]
  },
  {
   "cell_type": "code",
   "execution_count": 20,
   "metadata": {},
   "outputs": [
    {
     "name": "stdout",
     "output_type": "stream",
     "text": [
      "5\n",
      "2\n",
      "5.0\n"
     ]
    }
   ],
   "source": [
    "#4\n",
    "a = int(input())\n",
    "b = int(input())\n",
    "print((a * b)/2)"
   ]
  },
  {
   "cell_type": "code",
   "execution_count": 5,
   "metadata": {},
   "outputs": [
    {
     "name": "stdout",
     "output_type": "stream",
     "text": [
      "How many bottles have one litre or less: 5\n",
      "How many bottles have more than one litre: 5\n",
      "The c for returning these containers is $1.75.\n"
     ]
    }
   ],
   "source": [
    "#5\n",
    "a = int(input(\"How many bottles have one litre or less: \")) \n",
    "b = int(input(\"How many bottles have more than one litre: \")) \n",
    " \n",
    "c = (a * 0.10) + (b * 0.25) \n",
    " \n",
    "print(\"The c for returning these containers is ${0:.2f}.\".format(c))"
   ]
  },
  {
   "cell_type": "code",
   "execution_count": 1,
   "metadata": {},
   "outputs": [
    {
     "name": "stdout",
     "output_type": "stream",
     "text": [
      "2000\n",
      "360.0   200.0   2560.0\n"
     ]
    }
   ],
   "source": [
    "#6\n",
    "a = int(input())\n",
    "print(a*18/100,\" \",a*10/100,\" \",a+(a*18/100)+(a*10/100))"
   ]
  },
  {
   "cell_type": "code",
   "execution_count": 2,
   "metadata": {},
   "outputs": [
    {
     "name": "stdout",
     "output_type": "stream",
     "text": [
      "Enter a positive integer: 5\n",
      "The sum of the first 5 positive integers 15.0\n"
     ]
    }
   ],
   "source": [
    "#7\n",
    "n = int(input(\"Enter a positive integer: \"))\n",
    "total = n * (n + 1) / 2\n",
    "print(\"The sum of the first\",n,\"positive integers\",total)"
   ]
  },
  {
   "cell_type": "code",
   "execution_count": 6,
   "metadata": {},
   "outputs": [
    {
     "name": "stdout",
     "output_type": "stream",
     "text": [
      "Please enter the amount of widgets: 1\n",
      "Please enter the amount of gizmos: 2\n",
      "The total weight of all these widgets and gizmos is 299 grams.\n"
     ]
    }
   ],
   "source": [
    "#8\n",
    "a = int(input(\"Please enter the amount of widgets: \"))\n",
    "b = int(input(\"Please enter the amount of gizmos: \"))\n",
    "\n",
    "c = 75\n",
    "d = 112\n",
    "\n",
    "totalWeight = (a * c) + (b * d)\n",
    "\n",
    "print(\"The total weight of all these widgets and gizmos is {} grams.\".format(totalWeight))\n",
    "\n",
    "def function():\n",
    "\tpass"
   ]
  },
  {
   "cell_type": "code",
   "execution_count": 7,
   "metadata": {},
   "outputs": [
    {
     "name": "stdout",
     "output_type": "stream",
     "text": [
      "How much money is initially deposited into the savings account: $50\n",
      "Balance as of end of Year 1: $52.00.\n",
      "Balance as of end of Year 2: $54.08.\n",
      "Balance as of end of Year 3: $56.24.\n"
     ]
    }
   ],
   "source": [
    "#9\n",
    "amount = float(input(\"How much money is initially deposited into the savings account: $\"))\n",
    "\n",
    "interestRate = 0.04 # Interest for this savings A/C is 4%\n",
    "\n",
    "interest = amount * interestRate\n",
    "amount += interest\n",
    "print(\"Balance as of end of Year 1: ${0:0.2f}.\".format(amount))\n",
    "\n",
    "interest = amount * interestRate\n",
    "amount += interest\n",
    "print(\"Balance as of end of Year 2: ${0:0.2f}.\".format(amount))\n",
    "\n",
    "interest = amount * interestRate\n",
    "amount += interest\n",
    "print(\"Balance as of end of Year 3: ${0:0.2f}.\".format(amount))"
   ]
  },
  {
   "cell_type": "code",
   "execution_count": 8,
   "metadata": {},
   "outputs": [
    {
     "name": "stdout",
     "output_type": "stream",
     "text": [
      "Please enter a: 50\n",
      "Please enter b: 70\n",
      "The sum: 120\n",
      "The difference: -20\n",
      "The product: 3500\n",
      "The quotient: 0.7142857142857143\n",
      "The remainder: 50\n",
      "Result of log10a: 1.6989700043360187\n",
      "Result of a to the power of b: 84703294725430033906832250067964196205139160156250000000000000000000000000000000000000000000000000000000000000000000000\n"
     ]
    }
   ],
   "source": [
    "#10\n",
    "import math\n",
    "\n",
    "a = int(input(\"Please enter a: \"))\n",
    "b = int(input(\"Please enter b: \"))\n",
    "\n",
    "sum = a + b\n",
    "difference = a - b\n",
    "product = a * b\n",
    "quotient = a / b\n",
    "remainder = a % b\n",
    "log10 = math.log10(a)\n",
    "powered = a ** b\n",
    "\n",
    "print(\"The sum: {}\".format(sum))\n",
    "print(\"The difference: {}\".format(difference))\n",
    "print(\"The product: {}\".format(product))\n",
    "print(\"The quotient: {}\".format(quotient))\n",
    "print(\"The remainder: {}\".format(remainder))\n",
    "print(\"Result of log10a: {}\".format(log10))\n",
    "print(\"Result of a to the power of b: {}\".format(powered))"
   ]
  },
  {
   "cell_type": "code",
   "execution_count": 9,
   "metadata": {},
   "outputs": [
    {
     "name": "stdout",
     "output_type": "stream",
     "text": [
      "How many Miles Per Gallon (MPG): 56\n",
      "The L/100km is 4.200267857142857L\n"
     ]
    }
   ],
   "source": [
    "#11\n",
    "MPG = float(input(\"How many Miles Per Gallon (MPG): \"))\n",
    "\n",
    "litresPer100 = 235.215 / MPG\n",
    "print(\"The L/100km is {}L\".format(litresPer100))"
   ]
  },
  {
   "cell_type": "code",
   "execution_count": 10,
   "metadata": {},
   "outputs": [
    {
     "name": "stdout",
     "output_type": "stream",
     "text": [
      "Please enter the x value of a point on Earth in degrees: 11\n",
      "Please enter the y value for that point on Earth in degrees: 22\n",
      "Please enter the x value of a 2nd point on Earth in degrees: 23\n",
      "Please enter the y value for that point on Earth in degrees: 34\n",
      "The distance between these two points on Earth is 1844.0680754226557km\n"
     ]
    }
   ],
   "source": [
    "#12\n",
    "import math\n",
    "\n",
    "t1 = float(input(\"Please enter the x value of a point on Earth in degrees: \"))\n",
    "t2 = float(input(\"Please enter the y value for that point on Earth in degrees: \"))\n",
    "\n",
    "g1 = float(input(\"Please enter the x value of a 2nd point on Earth in degrees: \"))\n",
    "g2 = float(input(\"Please enter the y value for that point on Earth in degrees: \"))\n",
    "\n",
    "distance = 6371.01 * math.acos(math.sin(math.radians(t1)) * math.sin(math.radians(g1)) + \\\n",
    "math.cos(math.radians(t1)) * math.cos(math.radians(g1)) * math.cos(math.radians(t2-g2)))\n",
    "\n",
    "print(\"The distance between these two points on Earth is {}km\".format(distance))"
   ]
  },
  {
   "cell_type": "code",
   "execution_count": 11,
   "metadata": {},
   "outputs": [
    {
     "name": "stdout",
     "output_type": "stream",
     "text": [
      "Please enter a number of cents: 5\n",
      "The change using the smallest amount of change is...\n",
      "0 toonies, 0 loonies, 0 quarters, 0 dimes, 1 nickels, 5 pennies\n"
     ]
    }
   ],
   "source": [
    "#13\n",
    "cents = int(input(\"Please enter a number of cents: \"))\n",
    "\n",
    "toonies = int(cents / 200) # A toonie is a Canadian name for a $2 coin\n",
    "cents -= toonies * 200\n",
    "\n",
    "loonies = int(cents / 100) # A toonie is a Canadian name for a $1 coin\n",
    "cents -= loonies * 100\n",
    "\n",
    "quarters = int(cents/25) # A quarter is 25 cents\n",
    "cents -= quarters * 25\n",
    "\n",
    "dimes = int(cents/10) # A dime is 10 cent\n",
    "cents -= dimes * 10\n",
    "\n",
    "nickels = int(cents/5) # A nickel is 5 cent\n",
    "\n",
    "pennies = cents\n",
    "\n",
    "print(\"The change using the smallest amount of change is...\")\n",
    "print(\"{} toonies, {} loonies, {} quarters, {} dimes, {} nickels, {} pennies\".format(toonies, loonies, quarters, dimes, nickels, pennies))"
   ]
  },
  {
   "cell_type": "code",
   "execution_count": 12,
   "metadata": {},
   "outputs": [
    {
     "name": "stdout",
     "output_type": "stream",
     "text": [
      "How many feet: 5\n",
      "How many inches: 6\n",
      "This height is 167.64000000000001m.\n"
     ]
    }
   ],
   "source": [
    "#14\n",
    "feet = int(input(\"How many feet: \"))\n",
    "inches = int(input(\"How many inches: \"))\n",
    "\n",
    "inches += feet * 12\n",
    "\n",
    "metres = inches * 2.54\n",
    "\n",
    "print(\"This height is {}m.\".format(metres))"
   ]
  },
  {
   "cell_type": "code",
   "execution_count": 13,
   "metadata": {},
   "outputs": [
    {
     "name": "stdout",
     "output_type": "stream",
     "text": [
      "Please enter a distance in feet: 5\n",
      "In miles: 0.0009469700000000001\n",
      "In yards: 1.6666666650000002\n",
      "In inches: 60\n"
     ]
    }
   ],
   "source": [
    "#15\n",
    "feet = int(input(\"Please enter a distance in feet: \"))\n",
    "\n",
    "miles = feet * 0.000189394\n",
    "yards = feet * 0.333333333\n",
    "inches = feet * 12\n",
    "\n",
    "print(\"In miles: {}\".format(miles))\n",
    "print(\"In yards: {}\".format(yards))\n",
    "print(\"In inches: {}\".format(inches))"
   ]
  },
  {
   "cell_type": "code",
   "execution_count": 14,
   "metadata": {},
   "outputs": [
    {
     "name": "stdout",
     "output_type": "stream",
     "text": [
      "Please enter a radius r: 1\n",
      "The area of a circle with radius r is 3.141592653589793 units squared.\n",
      "The volume of a sphere with radius r is 4.1887902047863905 units cubed.\n"
     ]
    }
   ],
   "source": [
    "#16\n",
    "import math\n",
    "\n",
    "r = float(input(\"Please enter a radius r: \"))\n",
    "\n",
    "area = math.pi * (r * r)\n",
    "vol = (4/3) * math.pi * (r * r * r)\n",
    "\n",
    "print(\"The area of a circle with radius r is {} units squared.\".format(area))\n",
    "print(\"The volume of a sphere with radius r is {} units cubed.\".format(vol))"
   ]
  },
  {
   "cell_type": "code",
   "execution_count": 15,
   "metadata": {},
   "outputs": [
    {
     "name": "stdout",
     "output_type": "stream",
     "text": [
      "Please enter the mass of some water in grams: 5\n",
      "Please enter the temperature changein degrees Celsius: 8\n",
      "Total amount of energy used in Joules is 167.44.\n",
      "The total cost of this is $0.00041395220048000004.\n"
     ]
    }
   ],
   "source": [
    "#17\n",
    "mass = float(input(\"Please enter the mass of some water in grams: \"))\n",
    "tempChange = float(input(\"Please enter the temperature changein degrees Celsius: \"))\n",
    "\n",
    "C = 4.186 # Water's heat capacity is 4.186 Joules\n",
    "joules = mass * C * tempChange\n",
    "\n",
    "print(\"Total amount of energy used in Joules is {}.\".format(joules))\n",
    "\n",
    "costPerKiloWattHour = 8.9 # Taken from the question\n",
    "kiloWattHours = joules * 2.7778e-7 # Converts from Joules to kilowatt-hours\n",
    "\n",
    "cost = kiloWattHours * costPerKiloWattHour\n",
    "\n",
    "print(\"The total cost of this is ${}.\".format(cost))"
   ]
  },
  {
   "cell_type": "code",
   "execution_count": 16,
   "metadata": {},
   "outputs": [
    {
     "name": "stdout",
     "output_type": "stream",
     "text": [
      "Please enter a radius for a cylinder: 55\n",
      "Please enter the height of than cylinder: 65\n",
      "The volume of this cylinder is 617715.7 units cubed.\n"
     ]
    }
   ],
   "source": [
    "#18\n",
    "radius = float(input(\"Please enter a radius for a cylinder: \"))\n",
    "height = float(input(\"Please enter the height of than cylinder: \"))\n",
    "\n",
    "volume = math.pi * (radius*radius) * height\n",
    "\n",
    "print(\"The volume of this cylinder is {0:0.01f} units cubed.\".format(volume))"
   ]
  },
  {
   "cell_type": "code",
   "execution_count": 17,
   "metadata": {},
   "outputs": [
    {
     "name": "stdout",
     "output_type": "stream",
     "text": [
      "Please enter a height from which an object is dropped from in meters: 5\n",
      "The final velocity when the object hits the ground is 9.899494936611665m/s^2.\n"
     ]
    }
   ],
   "source": [
    "#19\n",
    "import math\n",
    "\n",
    "height = float(input(\"Please enter a height from which an object is dropped from in meters: \"))\n",
    "\n",
    "acceleration = 9.8\n",
    "finalVelocity = math.sqrt(2*acceleration*height)\n",
    "\n",
    "print(\"The final velocity when the object hits the ground is {}m/s^2.\".format(finalVelocity))"
   ]
  },
  {
   "cell_type": "code",
   "execution_count": 18,
   "metadata": {},
   "outputs": [
    {
     "name": "stdout",
     "output_type": "stream",
     "text": [
      "Please enter a pressure in Pascals: 56\n",
      "Please enter a volume in liters: 78\n",
      "Please enter a temperature in Kelvin: 90\n",
      "The amount of gas in moles for these conditions is 5.837543099991981.\n"
     ]
    }
   ],
   "source": [
    "#20\n",
    "P = float(input(\"Please enter a pressure in Pascals: \"))\n",
    "V = float(input(\"Please enter a volume in liters: \"))\n",
    "T = float(input(\"Please enter a temperature in Kelvin: \"))\n",
    "\n",
    "R = 8.314\n",
    "\n",
    "n = (P*V) / (R*T)\n",
    "\n",
    "print(\"The amount of gas in moles for these conditions is {}.\".format(n))"
   ]
  },
  {
   "cell_type": "code",
   "execution_count": 19,
   "metadata": {},
   "outputs": [
    {
     "name": "stdout",
     "output_type": "stream",
     "text": [
      "Please enter the base of a triangle in units: 5\n",
      "Please enter the perpendicular height of that triangle in units: 6\n",
      "The area of this triangle is 15.0 units squared.\n"
     ]
    }
   ],
   "source": [
    "#21\n",
    "base = float(input(\"Please enter the base of a triangle in units: \"))\n",
    "height = float(input(\"Please enter the perpendicular height of that triangle in units: \"))\n",
    "\n",
    "area = (base*height) / 2\n",
    "\n",
    "print(\"The area of this triangle is {} units squared.\".format(area))"
   ]
  },
  {
   "cell_type": "code",
   "execution_count": 20,
   "metadata": {},
   "outputs": [
    {
     "name": "stdout",
     "output_type": "stream",
     "text": [
      "Please enter side a of a triangle: 5\n",
      "Please enter side b of a triangle: 6\n",
      "Please enter side c of a triangle: 7\n",
      "The area of the triangle is 14.696938456699069 units squared.\n"
     ]
    }
   ],
   "source": [
    "#22\n",
    "import math\n",
    "\n",
    "s1 = float(input(\"Please enter side a of a triangle: \"))\n",
    "s2 = float(input(\"Please enter side b of a triangle: \"))\n",
    "s3= float(input(\"Please enter side c of a triangle: \"))\n",
    "\n",
    "s = (s1+s2+s3) / 2\n",
    "\n",
    "area = math.sqrt(s * (s-s1) * (s-s2) * (s-s3))\n",
    "\n",
    "print(\"The area of the triangle is {} units squared.\".format(area))"
   ]
  },
  {
   "cell_type": "code",
   "execution_count": 21,
   "metadata": {},
   "outputs": [
    {
     "name": "stdout",
     "output_type": "stream",
     "text": [
      "Please enter the size of a side of a regular polygon: 78\n",
      "Please enter the number of these sides in the regular polygon: 87\n",
      "The area of this polygon is 3662933.4049330163 units squared.\n"
     ]
    }
   ],
   "source": [
    "#23\n",
    "import math\n",
    "\n",
    "s = float(input(\"Please enter the size of a side of a regular polygon: \"))\n",
    "n = float(input(\"Please enter the number of these sides in the regular polygon: \"))\n",
    "\n",
    "area = (n * (s*s)) / (4 * math.tan(math.pi/n))\n",
    "\n",
    "print(\"The area of this polygon is {} units squared.\".format(area))"
   ]
  },
  {
   "cell_type": "code",
   "execution_count": 22,
   "metadata": {},
   "outputs": [
    {
     "name": "stdout",
     "output_type": "stream",
     "text": [
      "Please enter a number of days: 6\n",
      "Please enter a number of hours: 7\n",
      "Please enter a number of minutes: 8\n",
      "Please enter a number of seconds: 9\n",
      "The total number of seconds is 544089.\n"
     ]
    }
   ],
   "source": [
    "#24\n",
    "days = int(input(\"Please enter a number of days: \"))\n",
    "hours = int(input(\"Please enter a number of hours: \"))\n",
    "minutes = int(input(\"Please enter a number of minutes: \"))\n",
    "seconds = int(input(\"Please enter a number of seconds: \"))\n",
    "\n",
    "totalSeconds = seconds\n",
    "totalSeconds += minutes * 60\n",
    "totalSeconds += hours * 60 * 60\n",
    "totalSeconds += days * 60 * 60 * 24\n",
    "\n",
    "print(\"The total number of seconds is {}.\".format(totalSeconds))"
   ]
  },
  {
   "cell_type": "code",
   "execution_count": 23,
   "metadata": {},
   "outputs": [
    {
     "name": "stdout",
     "output_type": "stream",
     "text": [
      "Please enter a number of seconds: 1\n",
      "In the form D:H:M:S : 0:0:0:1\n"
     ]
    }
   ],
   "source": [
    "#25\n",
    "totalSeconds = int(input(\"Please enter a number of seconds: \"))\n",
    "\n",
    "days = int(totalSeconds / 60 / 60 / 24)\n",
    "totalSeconds -= days * 60 * 60 * 24\n",
    "\n",
    "hours = int(totalSeconds / 60 / 60)\n",
    "totalSeconds -= hours * 60 * 60\n",
    "\n",
    "minutes = int(totalSeconds / 60)\n",
    "totalSeconds -= minutes * 60\n",
    "\n",
    "seconds = totalSeconds\n",
    "\n",
    "print(\"In the form D:H:M:S : {}:{}:{}:{}\".format(days, hours, minutes, seconds))\n"
   ]
  },
  {
   "cell_type": "code",
   "execution_count": 24,
   "metadata": {},
   "outputs": [
    {
     "name": "stdout",
     "output_type": "stream",
     "text": [
      "Wed Sep  9 22:05:28 2020\n"
     ]
    }
   ],
   "source": [
    "#26\n",
    "import time\n",
    "\n",
    "print(time.asctime())\n"
   ]
  },
  {
   "cell_type": "code",
   "execution_count": 25,
   "metadata": {},
   "outputs": [
    {
     "name": "stdout",
     "output_type": "stream",
     "text": [
      "Please enter a height in metres: 5\n",
      "Please enter a weight in kilograms: 6\n",
      "The BMI of this person's height and weight is 0.24.\n"
     ]
    }
   ],
   "source": [
    "#27\n",
    "height = float(input(\"Please enter a height in metres: \"))\n",
    "weight = float(input(\"Please enter a weight in kilograms: \"))\n",
    "\n",
    "BMI = (weight)  / (height * height)\n",
    "\n",
    "print(\"The BMI of this person's height and weight is {}.\".format(BMI))"
   ]
  },
  {
   "cell_type": "code",
   "execution_count": 26,
   "metadata": {},
   "outputs": [
    {
     "name": "stdout",
     "output_type": "stream",
     "text": [
      "Please enter an air temperature: 1\n",
      "Please enter the corresponding wind speed: 2\n",
      "The WCI (Wind Chill Index) is 1.4809495903644923.\n"
     ]
    }
   ],
   "source": [
    "#28\n",
    "airTemp = float(input(\"Please enter an air temperature: \"))\n",
    "windSpeed = float(input(\"Please enter the corresponding wind speed: \"))\n",
    "\n",
    "WCI = 13.12 + (0.6215*airTemp) - (11.37*(windSpeed**0.16)) + (0.3965*airTemp*(windSpeed**0.16))\n",
    "\n",
    "print(\"The WCI (Wind Chill Index) is {}.\".format(WCI))"
   ]
  },
  {
   "cell_type": "code",
   "execution_count": 27,
   "metadata": {},
   "outputs": [
    {
     "name": "stdout",
     "output_type": "stream",
     "text": [
      "Please enter a temperature in Celsius: 5\n",
      "In Fahrenheit: 41.0\n",
      "In Kelvin: 278.15\n"
     ]
    }
   ],
   "source": [
    "#29\n",
    "celsius = float(input(\"Please enter a temperature in Celsius: \"))\n",
    "\n",
    "fahrenheit = celsius * (9/5) + 32\n",
    "kelvin = celsius + 273.15\n",
    "\n",
    "print(\"In Fahrenheit: {}\".format(fahrenheit))\n",
    "print(\"In Kelvin: {}\".format(kelvin))"
   ]
  },
  {
   "cell_type": "code",
   "execution_count": 28,
   "metadata": {},
   "outputs": [
    {
     "name": "stdout",
     "output_type": "stream",
     "text": [
      "Please enter a pressure in kilo-pascals: 5\n",
      "\n",
      "In Pounds Per Square Inch (PSI): 0.72518869\n",
      "In Millimetres Of Mercury (mmHg): 37.503099999999996\n",
      "In Atmospheres (atm): 0.049358341559723594\n"
     ]
    }
   ],
   "source": [
    "#30\n",
    "kiloPascals = float(input(\"Please enter a pressure in kilo-pascals: \"))\n",
    "\n",
    "PSI = kiloPascals * 0.145037738\n",
    "mmOfMercury = kiloPascals * 7.50062\n",
    "atmospheres = kiloPascals / 101.3\n",
    "\n",
    "print()\n",
    "print(\"In Pounds Per Square Inch (PSI): {}\".format(PSI))\n",
    "print(\"In Millimetres Of Mercury (mmHg): {}\".format(mmOfMercury))\n",
    "print(\"In Atmospheres (atm): {}\".format(atmospheres))\n"
   ]
  },
  {
   "cell_type": "code",
   "execution_count": 30,
   "metadata": {},
   "outputs": [
    {
     "name": "stdout",
     "output_type": "stream",
     "text": [
      "Please enter a four digit integer: 5\n"
     ]
    },
    {
     "ename": "IndexError",
     "evalue": "string index out of range",
     "output_type": "error",
     "traceback": [
      "\u001b[1;31m---------------------------------------------------------------------------\u001b[0m",
      "\u001b[1;31mIndexError\u001b[0m                                Traceback (most recent call last)",
      "\u001b[1;32m<ipython-input-30-fd2978a0a1e1>\u001b[0m in \u001b[0;36m<module>\u001b[1;34m\u001b[0m\n\u001b[0;32m      3\u001b[0m \u001b[1;33m\u001b[0m\u001b[0m\n\u001b[0;32m      4\u001b[0m \u001b[0msum\u001b[0m \u001b[1;33m=\u001b[0m \u001b[0mint\u001b[0m\u001b[1;33m(\u001b[0m\u001b[0mnumber\u001b[0m\u001b[1;33m[\u001b[0m\u001b[1;36m0\u001b[0m\u001b[1;33m]\u001b[0m\u001b[1;33m)\u001b[0m\u001b[1;33m\u001b[0m\u001b[1;33m\u001b[0m\u001b[0m\n\u001b[1;32m----> 5\u001b[1;33m \u001b[0msum\u001b[0m \u001b[1;33m+=\u001b[0m \u001b[0mint\u001b[0m\u001b[1;33m(\u001b[0m\u001b[0mnumber\u001b[0m\u001b[1;33m[\u001b[0m\u001b[1;36m1\u001b[0m\u001b[1;33m]\u001b[0m\u001b[1;33m)\u001b[0m\u001b[1;33m\u001b[0m\u001b[1;33m\u001b[0m\u001b[0m\n\u001b[0m\u001b[0;32m      6\u001b[0m \u001b[0msum\u001b[0m \u001b[1;33m+=\u001b[0m \u001b[0mint\u001b[0m\u001b[1;33m(\u001b[0m\u001b[0mnumber\u001b[0m\u001b[1;33m[\u001b[0m\u001b[1;36m2\u001b[0m\u001b[1;33m]\u001b[0m\u001b[1;33m)\u001b[0m\u001b[1;33m\u001b[0m\u001b[1;33m\u001b[0m\u001b[0m\n\u001b[0;32m      7\u001b[0m \u001b[0msum\u001b[0m \u001b[1;33m+=\u001b[0m \u001b[0mint\u001b[0m\u001b[1;33m(\u001b[0m\u001b[0mnumber\u001b[0m\u001b[1;33m[\u001b[0m\u001b[1;36m3\u001b[0m\u001b[1;33m]\u001b[0m\u001b[1;33m)\u001b[0m\u001b[1;33m\u001b[0m\u001b[1;33m\u001b[0m\u001b[0m\n",
      "\u001b[1;31mIndexError\u001b[0m: string index out of range"
     ]
    }
   ],
   "source": [
    "#31\n",
    "number = input(\"Please enter a four digit integer: \")\n",
    "\n",
    "sum = int(number[0])\n",
    "sum += int(number[1])\n",
    "sum += int(number[2])\n",
    "sum += int(number[3])\n",
    "\n",
    "print(\"The sum of the four digits in the number is {}.\".format(sum))\n"
   ]
  },
  {
   "cell_type": "code",
   "execution_count": 31,
   "metadata": {},
   "outputs": [
    {
     "name": "stdout",
     "output_type": "stream",
     "text": [
      "Please enter the first number: 5\n",
      "Plase enter the second number: 7\n",
      "Please enter the third number: 9\n",
      "The values ordered smallest to largest is: 5, 7, 9.\n"
     ]
    }
   ],
   "source": [
    "#32\n",
    "firstNumber = int(input(\"Please enter the first number: \"))\n",
    "secondNumber = int(input(\"Plase enter the second number: \"))\n",
    "thirdNumber = int(input(\"Please enter the third number: \"))\n",
    "\n",
    "smallest = min(firstNumber, secondNumber, thirdNumber)\n",
    "largest = max(firstNumber, secondNumber, thirdNumber)\n",
    "middle = (firstNumber+secondNumber+thirdNumber) - smallest - largest\n",
    "\n",
    "print(\"The values ordered smallest to largest is: {}, {}, {}.\".format(smallest, middle, largest))\n"
   ]
  },
  {
   "cell_type": "code",
   "execution_count": 32,
   "metadata": {},
   "outputs": [
    {
     "name": "stdout",
     "output_type": "stream",
     "text": [
      "Please enter the number of day old loves of bread being purchased: 5\n",
      "Regular price is $17.45.\n",
      "Discounted price is $10.47.\n"
     ]
    }
   ],
   "source": [
    "#33\n",
    "noOfDayOldBreadLoaves = int(input(\"Please enter the number of day old loves of bread being purchased: \"))\n",
    "\n",
    "dayOldDiscount = 0.60 # 60% discount\n",
    "\n",
    "regularPrice = noOfDayOldBreadLoaves * 3.49\n",
    "discountedPrice = noOfDayOldBreadLoaves * (3.49 * dayOldDiscount)\n",
    "\n",
    "print(\"Regular price is ${:.2f}.\".format(regularPrice))\n",
    "print(\"Discounted price is ${:.2f}.\".format(discountedPrice))"
   ]
  },
  {
   "cell_type": "code",
   "execution_count": null,
   "metadata": {},
   "outputs": [],
   "source": []
  }
 ],
 "metadata": {
  "kernelspec": {
   "display_name": "Python 3",
   "language": "python",
   "name": "python3"
  },
  "language_info": {
   "codemirror_mode": {
    "name": "ipython",
    "version": 3
   },
   "file_extension": ".py",
   "mimetype": "text/x-python",
   "name": "python",
   "nbconvert_exporter": "python",
   "pygments_lexer": "ipython3",
   "version": "3.7.6"
  }
 },
 "nbformat": 4,
 "nbformat_minor": 4
}
